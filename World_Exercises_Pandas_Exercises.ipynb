{
 "cells": [
  {
   "cell_type": "markdown",
   "metadata": {
    "id": "KbC1b3FHsDkO"
   },
   "source": [
    "# Connection Details"
   ]
  },
  {
   "cell_type": "code",
   "execution_count": null,
   "metadata": {
    "colab": {
     "base_uri": "https://localhost:8080/"
    },
    "id": "z9pLrVhcoM4q",
    "outputId": "fd75a0d2-904e-4ee0-c1df-3943f2105886"
   },
   "outputs": [
    {
     "name": "stdout",
     "output_type": "stream",
     "text": [
      "Looking in indexes: https://pypi.org/simple, https://us-python.pkg.dev/colab-wheels/public/simple/\n",
      "Collecting mysql-connector-python\n",
      "  Downloading mysql_connector_python-8.0.29-cp37-cp37m-manylinux1_x86_64.whl (25.2 MB)\n",
      "\u001b[K     |████████████████████████████████| 25.2 MB 70.0 MB/s \n",
      "\u001b[?25hRequirement already satisfied: protobuf>=3.0.0 in /usr/local/lib/python3.7/dist-packages (from mysql-connector-python) (3.17.3)\n",
      "Requirement already satisfied: six>=1.9 in /usr/local/lib/python3.7/dist-packages (from protobuf>=3.0.0->mysql-connector-python) (1.15.0)\n",
      "Installing collected packages: mysql-connector-python\n",
      "Successfully installed mysql-connector-python-8.0.29\n"
     ]
    }
   ],
   "source": [
    "!pip install mysql-connector-python"
   ]
  },
  {
   "cell_type": "code",
   "execution_count": null,
   "metadata": {
    "id": "j2KLe4siob3f"
   },
   "outputs": [],
   "source": [
    "import mysql.connector as connection\n",
    "import pandas as pd\n",
    "try:\n",
    "    mydb = connection.connect(host=\"sql5.freemysqlhosting.net\", database = 'sql5504952',user=\"sql5504952\", passwd=\"z7M513Z5hV\",use_pure=True)\n",
    "    query1 = \"SELECT * FROM city;\"\n",
    "    query2 = \"SELECT * FROM country;\"\n",
    "    query3 = \"SELECT * FROM countrylanguage;\"\n",
    "    city_dataframe = pd.read_sql(query1,mydb)\n",
    "    country_dataframe = pd.read_sql(query2,mydb)\n",
    "    countrylanguage_dataframe = pd.read_sql(query3,mydb)\n",
    "    mydb.close() #close the connection\n",
    "except Exception as e:\n",
    "    mydb.close()\n",
    "    print(str(e))"
   ]
  },
  {
   "cell_type": "code",
   "execution_count": null,
   "metadata": {
    "colab": {
     "base_uri": "https://localhost:8080/"
    },
    "id": "3KyFlQDTxKSQ",
    "outputId": "1304a443-dc01-4dfb-e28a-978df78ce57e"
   },
   "outputs": [
    {
     "name": "stdout",
     "output_type": "stream",
     "text": [
      "<class 'pandas.core.frame.DataFrame'>\n",
      "RangeIndex: 4079 entries, 0 to 4078\n",
      "Data columns (total 5 columns):\n",
      " #   Column           Non-Null Count  Dtype \n",
      "---  ------           --------------  ----- \n",
      " 0   ID               4079 non-null   int64 \n",
      " 1   City             4079 non-null   object\n",
      " 2   CountryCode      4079 non-null   object\n",
      " 3   District         4079 non-null   object\n",
      " 4   City_Population  4079 non-null   int64 \n",
      "dtypes: int64(2), object(3)\n",
      "memory usage: 159.5+ KB\n"
     ]
    }
   ],
   "source": [
    "# Renaming the columns Name to City and Population to City_Population\n",
    "city_dataframe.rename(columns = {'Name':'City', 'Population':'City_Population'}, inplace = True)\n",
    "city_dataframe.info()"
   ]
  },
  {
   "cell_type": "code",
   "execution_count": null,
   "metadata": {
    "colab": {
     "base_uri": "https://localhost:8080/"
    },
    "id": "k5LpfO8R9j24",
    "outputId": "ade36973-0597-41ef-a30a-bd0cbce466d1"
   },
   "outputs": [
    {
     "name": "stdout",
     "output_type": "stream",
     "text": [
      "<class 'pandas.core.frame.DataFrame'>\n",
      "RangeIndex: 239 entries, 0 to 238\n",
      "Data columns (total 15 columns):\n",
      " #   Column          Non-Null Count  Dtype  \n",
      "---  ------          --------------  -----  \n",
      " 0   Code            239 non-null    object \n",
      " 1   Country         239 non-null    object \n",
      " 2   Continent       239 non-null    object \n",
      " 3   Region          239 non-null    object \n",
      " 4   SurfaceArea     239 non-null    float64\n",
      " 5   IndepYear       192 non-null    float64\n",
      " 6   Population      239 non-null    int64  \n",
      " 7   LifeExpectancy  222 non-null    float64\n",
      " 8   GNP             239 non-null    float64\n",
      " 9   GNPOld          178 non-null    float64\n",
      " 10  LocalName       239 non-null    object \n",
      " 11  GovernmentForm  239 non-null    object \n",
      " 12  HeadOfState     238 non-null    object \n",
      " 13  Capital         232 non-null    float64\n",
      " 14  Code2           239 non-null    object \n",
      "dtypes: float64(6), int64(1), object(8)\n",
      "memory usage: 28.1+ KB\n"
     ]
    }
   ],
   "source": [
    "# Renaming the column Name to Country\n",
    "country_dataframe.rename(columns = {'Name':'Country'}, inplace = True)\n",
    "country_dataframe.info()"
   ]
  },
  {
   "cell_type": "code",
   "execution_count": null,
   "metadata": {
    "colab": {
     "base_uri": "https://localhost:8080/"
    },
    "id": "PBAErAnk9ngH",
    "outputId": "8a6e5b5f-9421-4e0c-acf4-5909cd2da023"
   },
   "outputs": [
    {
     "name": "stdout",
     "output_type": "stream",
     "text": [
      "<class 'pandas.core.frame.DataFrame'>\n",
      "RangeIndex: 984 entries, 0 to 983\n",
      "Data columns (total 4 columns):\n",
      " #   Column       Non-Null Count  Dtype  \n",
      "---  ------       --------------  -----  \n",
      " 0   CountryCode  984 non-null    object \n",
      " 1   Language     984 non-null    object \n",
      " 2   IsOfficial   984 non-null    object \n",
      " 3   Percentage   984 non-null    float64\n",
      "dtypes: float64(1), object(3)\n",
      "memory usage: 30.9+ KB\n"
     ]
    }
   ],
   "source": [
    "countrylanguage_dataframe.info()"
   ]
  },
  {
   "cell_type": "markdown",
   "metadata": {
    "id": "DYUfIPxPsQkA"
   },
   "source": [
    "# Exercises"
   ]
  },
  {
   "cell_type": "code",
   "execution_count": null,
   "metadata": {
    "id": "pdWwn_qawfJ5"
   },
   "outputs": [],
   "source": [
    "## Dataframes: \n",
    "## city_dataframe\n",
    "## country_dataframe\n",
    "## countrylanguage_dataframe"
   ]
  },
  {
   "cell_type": "markdown",
   "metadata": {
    "id": "BNbleoKasWh9"
   },
   "source": [
    "## 01 Top 10 cities with the highest population"
   ]
  },
  {
   "cell_type": "code",
   "execution_count": null,
   "metadata": {
    "colab": {
     "base_uri": "https://localhost:8080/",
     "height": 363
    },
    "id": "w-0ZASg0sZ9j",
    "outputId": "caf5a840-ad0a-4dc2-b379-30e79033eb23"
   },
   "outputs": [],
   "source": []
  },
  {
   "cell_type": "markdown",
   "metadata": {
    "id": "Vfx3EIRYs8vY"
   },
   "source": [
    "## 02 District with the most cities"
   ]
  },
  {
   "cell_type": "code",
   "execution_count": null,
   "metadata": {
    "colab": {
     "base_uri": "https://localhost:8080/",
     "height": 455
    },
    "id": "ORszz_5Js8vY",
    "outputId": "f8b7be5b-9c2e-4616-e620-b872b8a364ec"
   },
   "outputs": [],
   "source": []
  },
  {
   "cell_type": "markdown",
   "metadata": {
    "id": "gbsNtY02s9tc"
   },
   "source": [
    "## 03 List of cities whose names end with “an”"
   ]
  },
  {
   "cell_type": "code",
   "execution_count": null,
   "metadata": {
    "colab": {
     "base_uri": "https://localhost:8080/",
     "height": 424
    },
    "id": "17AIwG32s9tc",
    "outputId": "cad0fbd0-d159-4c26-81f7-9ba60cfca15b"
   },
   "outputs": [],
   "source": []
  },
  {
   "cell_type": "markdown",
   "metadata": {
    "id": "VZT9BO3As-PH"
   },
   "source": [
    "## 04 Country with the most cities in Europe"
   ]
  },
  {
   "cell_type": "code",
   "execution_count": null,
   "metadata": {
    "colab": {
     "base_uri": "https://localhost:8080/",
     "height": 1000
    },
    "id": "39-pHmZOs-PI",
    "outputId": "d399dcc9-3e9c-4f40-f766-60e9c64fc667"
   },
   "outputs": [],
   "source": []
  },
  {
   "cell_type": "markdown",
   "metadata": {
    "id": "6bpf0sM2s-28"
   },
   "source": [
    "## 05 List countries and head of state with the largest surface area from the Middle East region, in descending order by surface area"
   ]
  },
  {
   "cell_type": "code",
   "execution_count": null,
   "metadata": {
    "colab": {
     "base_uri": "https://localhost:8080/",
     "height": 614
    },
    "id": "9wJfLXUys-28",
    "outputId": "ef490163-bb65-4507-e7ff-a7a7e5413304"
   },
   "outputs": [],
   "source": []
  },
  {
   "cell_type": "markdown",
   "metadata": {
    "id": "dJCrESOys_MA"
   },
   "source": [
    "## 06 List of Government Forms and the count of countries by Continent (As columns)"
   ]
  },
  {
   "cell_type": "code",
   "execution_count": null,
   "metadata": {
    "id": "qrs-gfJxs_MA"
   },
   "outputs": [],
   "source": []
  },
  {
   "cell_type": "markdown",
   "metadata": {
    "id": "IIbItF-Rs_kH"
   },
   "source": [
    "## 07 List the names, surface area, and life expectancy of the countries under a Constitutional Monarchy in North America"
   ]
  },
  {
   "cell_type": "code",
   "execution_count": null,
   "metadata": {
    "id": "Z9BadBkWs_kH"
   },
   "outputs": [],
   "source": []
  },
  {
   "cell_type": "markdown",
   "metadata": {
    "id": "WltDMnKctA5v"
   },
   "source": [
    "## 08 Most recent country and year to gain independence and oldest country and year to gain independence in one table"
   ]
  },
  {
   "cell_type": "code",
   "execution_count": null,
   "metadata": {
    "id": "NhCl5SRrtA5w"
   },
   "outputs": [],
   "source": [
    "## +-------+-------------------+\n",
    "## | Name  | Independence Year |\n",
    "## +-------+-------------------+\n",
    "## | Palau |              1994 |\n",
    "## | China |             -1523 |\n",
    "## +-------+-------------------+"
   ]
  },
  {
   "cell_type": "markdown",
   "metadata": {
    "id": "bQv1sshntBMk"
   },
   "source": [
    "## 09 Head of State with most countries (include average life expectancy)"
   ]
  },
  {
   "cell_type": "code",
   "execution_count": null,
   "metadata": {
    "id": "bn5pV7QstBMk"
   },
   "outputs": [],
   "source": []
  },
  {
   "cell_type": "markdown",
   "metadata": {
    "id": "UGY6nkIFtDJH"
   },
   "source": [
    "## 10 Country with more languages "
   ]
  },
  {
   "cell_type": "code",
   "execution_count": null,
   "metadata": {
    "id": "mPDxLMbKtDJI"
   },
   "outputs": [],
   "source": []
  },
  {
   "cell_type": "markdown",
   "metadata": {
    "id": "-WZfTl4OtDLn"
   },
   "source": [
    "## 11 Top 5 countries where English is spoken by more than 60% of the population"
   ]
  },
  {
   "cell_type": "code",
   "execution_count": null,
   "metadata": {
    "id": "c5_C4m7ttDLn"
   },
   "outputs": [],
   "source": []
  },
  {
   "cell_type": "markdown",
   "metadata": {
    "id": "4ByawFqdtDN0"
   },
   "source": [
    "## 12 List of cities that share the same name as the country (Column headers should say: City and Country)"
   ]
  },
  {
   "cell_type": "code",
   "execution_count": null,
   "metadata": {
    "id": "sFWwpOv0tDN1"
   },
   "outputs": [],
   "source": []
  },
  {
   "cell_type": "markdown",
   "metadata": {
    "id": "sPwIcCY2tDQD"
   },
   "source": [
    "## 13 Countries with the lowest and highest life expectancy in one table (Don't include nulls)"
   ]
  },
  {
   "cell_type": "code",
   "execution_count": null,
   "metadata": {
    "id": "x31WuEg0tDQD"
   },
   "outputs": [],
   "source": []
  },
  {
   "cell_type": "markdown",
   "metadata": {
    "id": "p1HcZe25tDSk"
   },
   "source": [
    "## 14 List the TOP 10 countries with the highest GNP per capita and the official language, ordered by GNP, highest to lowest"
   ]
  },
  {
   "cell_type": "code",
   "execution_count": null,
   "metadata": {
    "id": "ISpbXD3utDSl"
   },
   "outputs": [],
   "source": []
  },
  {
   "cell_type": "markdown",
   "metadata": {
    "id": "lB7kBQz_tDVE"
   },
   "source": [
    "## 15 What is the government form with the lowest GNP per capita that is not zero? List the country, region and continent too"
   ]
  },
  {
   "cell_type": "code",
   "execution_count": null,
   "metadata": {
    "id": "SxHBBliLtDVE"
   },
   "outputs": [],
   "source": []
  },
  {
   "cell_type": "markdown",
   "metadata": {
    "id": "RDkctel2tDXV"
   },
   "source": [
    "## 16 Which is the least spoken official language by population? "
   ]
  },
  {
   "cell_type": "code",
   "execution_count": null,
   "metadata": {
    "id": "dyPJ5cOutDXV"
   },
   "outputs": [],
   "source": []
  },
  {
   "cell_type": "markdown",
   "metadata": {
    "id": "f4ev5jH7tDaD"
   },
   "source": [
    "## 17 List the country with the smallest surface area along with population, language and government form"
   ]
  },
  {
   "cell_type": "code",
   "execution_count": null,
   "metadata": {
    "id": "RYXYO6lVtDaD"
   },
   "outputs": [],
   "source": []
  },
  {
   "cell_type": "markdown",
   "metadata": {
    "id": "V3F_FpXStDcT"
   },
   "source": [
    "## 18 List the top 10 countries with the largest surface area and number of districts"
   ]
  },
  {
   "cell_type": "code",
   "execution_count": null,
   "metadata": {
    "id": "foUdQaHRtDcU"
   },
   "outputs": [],
   "source": []
  },
  {
   "cell_type": "markdown",
   "metadata": {
    "id": "jwhD5wNBtDyI"
   },
   "source": [
    "## 19 List the city, city population, country, country population and the official language of the Asian continent"
   ]
  },
  {
   "cell_type": "code",
   "execution_count": null,
   "metadata": {
    "id": "ehJMnDgRtDyI"
   },
   "outputs": [],
   "source": []
  },
  {
   "cell_type": "markdown",
   "metadata": {
    "id": "MybnZh7StD0k"
   },
   "source": [
    "## 20 List the country and a column named \"Decades from Independence\" that shows the number of decades that have passed since the independence year. Limit results to 20 rows and order by number of decades"
   ]
  },
  {
   "cell_type": "code",
   "execution_count": null,
   "metadata": {
    "id": "kk9zrLFNtD0k"
   },
   "outputs": [],
   "source": []
  },
  {
   "cell_type": "markdown",
   "metadata": {
    "id": "7kTql2RxtD3V"
   },
   "source": [
    "## 21 List 20 rows with the following format: \"Belgium is a country that belongs to the continent of Europe, with a population of 10239000 people, with a life expectancy of 77.8 years and they speak Dutch officially\""
   ]
  },
  {
   "cell_type": "code",
   "execution_count": null,
   "metadata": {
    "id": "elOLF6HltD3W"
   },
   "outputs": [],
   "source": []
  },
  {
   "cell_type": "markdown",
   "metadata": {
    "id": "RKf_1i0ktBiz"
   },
   "source": [
    "## 22 List the cities of USA, a column named \"Size\" that will show 2 categories: Big city (Pop > 1,000,000) and Small city (Pop < 1,000,000)."
   ]
  },
  {
   "cell_type": "code",
   "execution_count": null,
   "metadata": {
    "id": "a7dw_l8AtBiz"
   },
   "outputs": [],
   "source": []
  },
  {
   "cell_type": "markdown",
   "metadata": {
    "id": "K4yArCQ-utPh"
   },
   "source": [
    "## 23 Create a list of city districts with the average life expectancy and total district population. Order by Population List 30 rows"
   ]
  },
  {
   "cell_type": "code",
   "execution_count": null,
   "metadata": {
    "id": "taIoalgMuvRi"
   },
   "outputs": [],
   "source": []
  },
  {
   "cell_type": "markdown",
   "metadata": {
    "id": "9wCCe0afu0v8"
   },
   "source": [
    "## 24 List the heads of state, a column with the total number of countries under their command, another column with the total population under their command and the average life expectancy"
   ]
  },
  {
   "cell_type": "code",
   "execution_count": null,
   "metadata": {
    "id": "OF-VBXDTu0v8"
   },
   "outputs": [],
   "source": []
  },
  {
   "cell_type": "markdown",
   "metadata": {
    "id": "B-FCDd79u02M"
   },
   "source": [
    "## 25 List of continents with top 3 countries by population in descending order"
   ]
  },
  {
   "cell_type": "code",
   "execution_count": null,
   "metadata": {
    "id": "u3vsUU0-u02M"
   },
   "outputs": [],
   "source": []
  },
  {
   "cell_type": "markdown",
   "metadata": {
    "id": "i8I9gdonu05N"
   },
   "source": [
    "## 26 List of districts whose district name contains \"tr\" or \"ng\" and population is > 30,000, in descending order "
   ]
  },
  {
   "cell_type": "code",
   "execution_count": null,
   "metadata": {
    "id": "Xq5eQHBju05O"
   },
   "outputs": [],
   "source": []
  },
  {
   "cell_type": "markdown",
   "metadata": {
    "id": "BSWJZ74Zu078"
   },
   "source": [
    "## 27 List of cities from South America, official language and head of state "
   ]
  },
  {
   "cell_type": "code",
   "execution_count": null,
   "metadata": {
    "id": "QdIMS3_xu078"
   },
   "outputs": [],
   "source": []
  },
  {
   "cell_type": "markdown",
   "metadata": {
    "id": "2KdyBewfu0-r"
   },
   "source": [
    "## 28 List the cities of Africa and country where they speak French as the official language"
   ]
  },
  {
   "cell_type": "code",
   "execution_count": null,
   "metadata": {
    "id": "7pLw1fkuu0-r"
   },
   "outputs": [],
   "source": []
  },
  {
   "cell_type": "markdown",
   "metadata": {
    "id": "-m8AyfQRu2tb"
   },
   "source": [
    "## 29 List a column with the count of countries that belong to a population group (< 50000 then Small, between 50000 and 500000 then Medium, > 500000 then Large) Example:"
   ]
  },
  {
   "cell_type": "code",
   "execution_count": null,
   "metadata": {
    "id": "BlPtLWZJu2tc"
   },
   "outputs": [],
   "source": [
    "## +-----------------+-------------------+\n",
    "## | # of Countries  | Population Group  |\n",
    "## +-----------------+-------------------+\n",
    "## | #               |             Small |\n",
    "## | #               |            Medium |\n",
    "## | #               |            Large  |\n",
    "## +-------+-----------------------------+"
   ]
  },
  {
   "cell_type": "markdown",
   "metadata": {
    "id": "imSc-rPHu28d"
   },
   "source": [
    "## 30 List region, country, country population, and most popular language of the country  "
   ]
  },
  {
   "cell_type": "code",
   "execution_count": null,
   "metadata": {
    "id": "yP39okNIu28d"
   },
   "outputs": [],
   "source": []
  },
  {
   "cell_type": "markdown",
   "metadata": {
    "id": "zDLLMXzru3CF"
   },
   "source": [
    "## 31 List the country, population and % of total population (LIMIT TO 30) "
   ]
  },
  {
   "cell_type": "code",
   "execution_count": null,
   "metadata": {
    "id": "XcHH_Sxsu3CG"
   },
   "outputs": [],
   "source": []
  }
 ],
 "metadata": {
  "colab": {
   "name": "World_Exercises_Pandas.ipynb",
   "provenance": [],
   "toc_visible": true
  },
  "kernelspec": {
   "display_name": "Python 3 (ipykernel)",
   "language": "python",
   "name": "python3"
  },
  "language_info": {
   "codemirror_mode": {
    "name": "ipython",
    "version": 3
   },
   "file_extension": ".py",
   "mimetype": "text/x-python",
   "name": "python",
   "nbconvert_exporter": "python",
   "pygments_lexer": "ipython3",
   "version": "3.9.7"
  }
 },
 "nbformat": 4,
 "nbformat_minor": 1
}
